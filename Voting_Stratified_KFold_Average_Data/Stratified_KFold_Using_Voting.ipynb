{
  "nbformat": 4,
  "nbformat_minor": 0,
  "metadata": {
    "colab": {
      "name": "Stratified_KFold_Using_Voting.ipynb",
      "version": "0.3.2",
      "provenance": [],
      "collapsed_sections": []
    },
    "kernelspec": {
      "name": "python3",
      "display_name": "Python 3"
    }
  },
  "cells": [
    {
      "cell_type": "code",
      "metadata": {
        "id": "CNUdK93hTtsM",
        "colab_type": "code",
        "colab": {}
      },
      "source": [
        "#Important Libraries and Packages\n",
        "import numpy as np\n",
        "import matplotlib.pyplot as plt\n",
        "import numpy.matlib\n",
        "%matplotlib inline\n",
        "from sklearn import linear_model, preprocessing\n",
        "from sklearn.model_selection import train_test_split\n",
        "import scipy.io\n",
        "from sklearn import svm\n",
        "from sklearn.model_selection import GridSearchCV\n",
        "from sklearn.svm import SVC\n",
        "from sklearn.model_selection import cross_val_score\n",
        "import sklearn.model_selection\n",
        "from sklearn.metrics import r2_score\n",
        "from sklearn.preprocessing import StandardScaler\n",
        "import pickle\n",
        "from sklearn.model_selection import StratifiedKFold\n",
        "\n",
        "\n"
      ],
      "execution_count": 0,
      "outputs": []
    },
    {
      "cell_type": "code",
      "metadata": {
        "id": "rdbH2LUNWzWm",
        "colab_type": "code",
        "colab": {}
      },
      "source": [
        ""
      ],
      "execution_count": 0,
      "outputs": []
    },
    {
      "cell_type": "code",
      "metadata": {
        "id": "r2ZWfOx4T6YE",
        "colab_type": "code",
        "outputId": "65666396-0b55-4b09-8f92-cc136e91c4fa",
        "colab": {
          "base_uri": "https://localhost:8080/",
          "height": 334
        }
      },
      "source": [
        "# model code to get output via voting from top 3 good performing channels for beta channel(Channel 30 ,31 & 34)\n",
        "accuracy=[]\n",
        "models=[]\n",
        "nfold = 5\n",
        "Rsq = np.zeros(nfold)\n",
        "channel_list = np.array([30,31,34])\n",
        "#load the files\n",
        "filename=\"Ch_30.mat\"\n",
        "mat = scipy.io.loadmat(filename)\n",
        "X=mat['PSD1']\n",
        "y=mat['y']\n",
        "y=np.ravel(y)\n",
        "Xs_ch_1=X[:,35:] \n",
        "#channel 31\n",
        "filename=\"Ch_31.mat\"\n",
        "mat = scipy.io.loadmat(filename)\n",
        "X=mat['PSD1']\n",
        "Xs_ch_2=X[:,35:]\n",
        "#channel 34\n",
        "filename=\"Ch_34.mat\"\n",
        "mat = scipy.io.loadmat(filename)\n",
        "X=mat['PSD1']\n",
        "Xs_ch_3=X[:,35:]\n",
        "\n",
        "skf = StratifiedKFold(n_splits=nfold,shuffle=True,random_state =23)\n",
        "i=0\n",
        "for is_split, Indices in enumerate(skf.split(Xs_ch_1,y)):\n",
        "    \n",
        "  Itr, Its = Indices\n",
        "  Xtr_channel_1=Xs_ch_1[Itr,:]\n",
        "  Xts_channel_1=Xs_ch_1[Its,:]\n",
        "  ytr_channel_1=y[Itr]\n",
        "  yts_channel_1=y[Its]\n",
        "  # channel 31 \n",
        "  \n",
        "  Xtr_channel_2=Xs_ch_2[Itr,:]\n",
        "  Xts_channel_2=Xs_ch_2[Its,:]\n",
        "  ytr_channel_2=y[Itr]\n",
        "  yts_channel_2=y[Its]\n",
        "  \n",
        "  #channel 34\n",
        "  Xtr_channel_3=Xs_ch_3[Itr,:]\n",
        "  Xts_channel_3=Xs_ch_3[Its,:]\n",
        "  ytr_channel_3=y[Itr]\n",
        "  yts_channel_3=y[Its]\n",
        "  \n",
        "  \n",
        "  \n",
        "  svc_ch_1 = svm.SVC(probability=False, kernel='rbf', C=2.8, gamma=0.0073, verbose=10)\n",
        "  svc_ch_1.fit(Xtr_channel_1,ytr_channel_1)\n",
        "  yhat_ch_1=svc_ch_1.predict(Xts_channel_1)\n",
        "  \n",
        "  svc_ch_2 = svm.SVC(probability=False, kernel='rbf', C=2.8, gamma=0.0073, verbose=10)\n",
        "  svc_ch_2.fit(Xtr_channel_2,ytr_channel_2)\n",
        "  yhat_ch_2=svc_ch_2.predict(Xts_channel_2)\n",
        "  \n",
        "  svc_ch_3 = svm.SVC(probability=False, kernel='rbf', C=2.8, gamma=0.0073, verbose=10)\n",
        "  svc_ch_3.fit(Xtr_channel_3,ytr_channel_3)\n",
        "  yhat_ch_3=svc_ch_3.predict(Xts_channel_3)\n",
        "  \n",
        "  yhat_fold = (yhat_ch_1 + yhat_ch_2 + yhat_ch_3 )/3\n",
        "  yhat_round = np.rint(yhat_fold)\n",
        "  # taking yts 30 since the output results are same for all 3 channels check the indices.\n",
        "  acc = np.mean(yhat_round==yts_channel_1)\n",
        "  Rsq[i]=acc\n",
        "  i = i + 1\n",
        "\n",
        "Rsq_mean=np.mean(Rsq)\n",
        "print(\"Average Accuracy is :{0:f}\".format(Rsq_mean))\n",
        "print('The maximum accuracies are')\n",
        "print(np.sort(Rsq))\n",
        "Rsq_std=np.std(Rsq)/np.sqrt(nfold-1)\n",
        "plt.plot(np.arange(5),Rsq)\n",
        "plt.xlabel('Folds')\n",
        "plt.ylabel('Accuracy')\n",
        "plt.grid()"
      ],
      "execution_count": 0,
      "outputs": [
        {
          "output_type": "stream",
          "text": [
            "[LibSVM][LibSVM][LibSVM][LibSVM][LibSVM][LibSVM][LibSVM][LibSVM][LibSVM][LibSVM][LibSVM][LibSVM][LibSVM][LibSVM][LibSVM]Average Accuracy is :0.695000\n",
            "The maximum accuracies are\n",
            "[0.5   0.7   0.7   0.7   0.875]\n"
          ],
          "name": "stdout"
        },
        {
          "output_type": "display_data",
          "data": {
            "image/png": "[encoded data removed]",
            "text/plain": [
              "<Figure size 432x288 with 1 Axes>"
            ]
          },
          "metadata": {
            "tags": []
          }
        }
      ]
    },
    {
      "cell_type": "code",
      "metadata": {
        "id": "fDhUkS6bUYr8",
        "colab_type": "code",
        "outputId": "f7a9f3af-3a97-4a08-943e-5ca5f5961b33",
        "colab": {
          "base_uri": "https://localhost:8080/",
          "height": 334
        }
      },
      "source": [
        "# model code to get output via voting from top 3 good performing channels for gamma channel(Channel 39,23,8)\n",
        "accuracy=[]\n",
        "models=[]\n",
        "nfold = 5\n",
        "Rsq = np.zeros(nfold)\n",
        "\n",
        "\n",
        "filename=\"Ch_39.mat\"\n",
        "mat = scipy.io.loadmat(filename)\n",
        "X=mat['PSD1']\n",
        "y=mat['y']\n",
        "y=np.ravel(y)\n",
        "Xs_ch_1=X[:,35:] \n",
        "#channel 31\n",
        "filename=\"Ch_23.mat\"\n",
        "mat = scipy.io.loadmat(filename)\n",
        "X=mat['PSD1']\n",
        "Xs_ch_2=X[:,35:]\n",
        "#channel 34\n",
        "filename=\"Ch_8.mat\"\n",
        "mat = scipy.io.loadmat(filename)\n",
        "X=mat['PSD1']\n",
        "Xs_ch_3=X[:,35:]\n",
        "kf = sklearn.model_selection.KFold(n_splits=nfold,shuffle=True)\n",
        "skf = StratifiedKFold(n_splits=nfold,shuffle=True,random_state =39)\n",
        "i=0\n",
        "for is_split, Indices in enumerate(skf.split(Xs_ch_1,y)):\n",
        "    \n",
        "  Itr, Its = Indices\n",
        "  Xtr_channel_1=Xs_ch_1[Itr,:]\n",
        "  Xts_channel_1=Xs_ch_1[Its,:]\n",
        "  ytr_channel_1=y[Itr]\n",
        "  yts_channel_1=y[Its]\n",
        " \n",
        "  Xtr_channel_2=Xs_ch_2[Itr,:]\n",
        "  Xts_channel_2=Xs_ch_2[Its,:]\n",
        "  ytr_channel_2=y[Itr]\n",
        "  yts_channel_2=y[Its]\n",
        "  \n",
        "  Xtr_channel_3=Xs_ch_3[Itr,:]\n",
        "  Xts_channel_3=Xs_ch_3[Its,:]\n",
        "  ytr_channel_3=y[Itr]\n",
        "  yts_channel_3=y[Its]\n",
        "  \n",
        "  #load the 3 models for 3 different channels\n",
        "  svc_ch_1 = svm.SVC(probability=False, kernel='rbf', C=2.8, gamma=0.0073, verbose=10)\n",
        "  svc_ch_1.fit(Xtr_channel_1,ytr_channel_1)\n",
        "  yhat_ch_1=svc_ch_1.predict(Xts_channel_1)\n",
        "  \n",
        "  svc_ch_2 = svm.SVC(probability=False, kernel='rbf', C=2.8, gamma=0.0073, verbose=10)\n",
        "  svc_ch_2.fit(Xtr_channel_2,ytr_channel_2)\n",
        "  yhat_ch_2=svc_ch_2.predict(Xts_channel_2)\n",
        "  \n",
        "  svc_ch_3 = svm.SVC(probability=False, kernel='rbf', C=2.8, gamma=0.0073, verbose=10)\n",
        "  svc_ch_3.fit(Xtr_channel_3,ytr_channel_3)\n",
        "  yhat_ch_3=svc_ch_3.predict(Xts_channel_3)\n",
        "  \n",
        "  yhat_fold = (yhat_ch_1 + yhat_ch_2 + yhat_ch_3 )/3\n",
        "  yhat_round = np.rint(yhat_fold)\n",
        "  # taking yts for the first channel since the output results are same for all 3 channels check the indices.\n",
        "  acc = np.mean(yhat_round==yts_channel_1)\n",
        "  Rsq[i]=acc\n",
        "  i = i + 1\n",
        "\n",
        "Rsq_mean=np.mean(Rsq)\n",
        "\n",
        "print(Rsq_mean)\n",
        "print('The maximum accuracies are')\n",
        "print(np.sort(Rsq))\n",
        "\n",
        "plt.plot(np.arange(5),Rsq)\n",
        "plt.xlabel('Folds')\n",
        "plt.ylabel('Accuracy')\n",
        "plt.grid()"
      ],
      "execution_count": 0,
      "outputs": [
        {
          "output_type": "stream",
          "text": [
            "[LibSVM][LibSVM][LibSVM][LibSVM][LibSVM][LibSVM][LibSVM][LibSVM][LibSVM][LibSVM][LibSVM][LibSVM][LibSVM][LibSVM][LibSVM]0.625\n",
            "The maximum accuracies are\n",
            "[0.5   0.6   0.6   0.625 0.8  ]\n"
          ],
          "name": "stdout"
        },
        {
          "output_type": "display_data",
          "data": {
            "image/png": "[encoded data removed]",
            "text/plain": [
              "<Figure size 432x288 with 1 Axes>"
            ]
          },
          "metadata": {
            "tags": []
          }
        }
      ]
    },
    {
      "cell_type": "code",
      "metadata": {
        "id": "VRbQERFwVix_",
        "colab_type": "code",
        "outputId": "1f4b88a4-08a1-4bb6-d08b-7596f5edccc2",
        "colab": {
          "base_uri": "https://localhost:8080/",
          "height": 354
        }
      },
      "source": [
        "# model code to get output via voting from top 5 good performing channels combining beta and gamma bands.\n",
        "accuracy=[]\n",
        "models=[]\n",
        "nfold = 5\n",
        "Rsq = np.zeros(nfold)\n",
        "\n",
        "# to get the indices in the split function of kfolduse channel 30\n",
        "\n",
        "# channel 34 beta\n",
        "filename=\"Ch_34.mat\"\n",
        "mat = scipy.io.loadmat(filename)\n",
        "X=mat['PSD1']\n",
        "y=mat['y']\n",
        "y=np.ravel(y)\n",
        "Xs_ch_1=X[:,35:] \n",
        "#channel 30 beta\n",
        "filename=\"Ch_30.mat\"\n",
        "mat = scipy.io.loadmat(filename)\n",
        "X=mat['PSD1']\n",
        "Xs_ch_2=X[:,35:]\n",
        "#channel 31 beta\n",
        "filename=\"Ch_31.mat\"\n",
        "mat = scipy.io.loadmat(filename)\n",
        "X=mat['PSD1']\n",
        "Xs_ch_3=X[:,35:]\n",
        "\n",
        "#channel 8 gamma\n",
        "filename=\"Ch_8.mat\"\n",
        "mat = scipy.io.loadmat(filename)\n",
        "X=mat['PSD1']\n",
        "Xs_ch_4=X[:,35:]\n",
        "\n",
        "#channel 23 gamma\n",
        "\n",
        "filename=\"Ch_23.mat\"\n",
        "mat = scipy.io.loadmat(filename)\n",
        "X=mat['PSD1']\n",
        "Xs_ch_5=X[:,35:]\n",
        "\n",
        "skf = StratifiedKFold(n_splits=nfold,shuffle=True,random_state =41)\n",
        "i=0\n",
        "for is_split, Indices in enumerate(skf.split(Xs_ch_1,y)):\n",
        "    \n",
        "  Itr, Its = Indices\n",
        "  Xtr_channel_1=Xs_ch_1[Itr,:]\n",
        "  Xts_channel_1=Xs_ch_1[Its,:]\n",
        "  ytr_channel_1=y[Itr]\n",
        "  yts_channel_1=y[Its]\n",
        "\n",
        "  \n",
        "  Xtr_channel_2=Xs_ch_2[Itr,:]\n",
        "  Xts_channel_2=Xs_ch_2[Its,:]\n",
        "  ytr_channel_2=y[Itr]\n",
        "  yts_channel_2=y[Its]\n",
        "  \n",
        "\n",
        "  Xtr_channel_3=Xs_ch_3[Itr,:]\n",
        "  Xts_channel_3=Xs_ch_3[Its,:]\n",
        "  ytr_channel_3=y[Itr]\n",
        "  yts_channel_3=y[Its]\n",
        "  \n",
        "  Xtr_channel_4=Xs_ch_4[Itr,:]\n",
        "  Xts_channel_4=Xs_ch_4[Its,:]\n",
        "  ytr_channel_4=y[Itr]\n",
        "  yts_channel_4=y[Its]\n",
        "  \n",
        "  Xtr_channel_5=Xs_ch_5[Itr,:]\n",
        "  Xts_channel_5=Xs_ch_5[Its,:]\n",
        "  ytr_channel_5=y[Itr]\n",
        "  yts_channel_5=y[Its]\n",
        "  \n",
        "  \n",
        "  \n",
        "  svc_ch_1 = svm.SVC(probability=False, kernel='rbf', C=2.8, gamma=0.0073, verbose=10)\n",
        "  svc_ch_1.fit(Xtr_channel_1,ytr_channel_1)\n",
        "  yhat_ch_1=svc_ch_1.predict(Xts_channel_1)\n",
        "  \n",
        "  svc_ch_2 = svm.SVC(probability=False, kernel='rbf', C=2.8, gamma=0.0073, verbose=10)\n",
        "  svc_ch_2.fit(Xtr_channel_2,ytr_channel_2)\n",
        "  yhat_ch_2=svc_ch_2.predict(Xts_channel_2)\n",
        "  \n",
        "  svc_ch_3 = svm.SVC(probability=False, kernel='rbf', C=2.8, gamma=0.0073, verbose=10)\n",
        "  svc_ch_3.fit(Xtr_channel_3,ytr_channel_3)\n",
        "  yhat_ch_3=svc_ch_3.predict(Xts_channel_3)\n",
        "  \n",
        "  svc_ch_4 = svm.SVC(probability=False, kernel='rbf', C=2.8, gamma=0.0073, verbose=10)\n",
        "  svc_ch_4.fit(Xtr_channel_4,ytr_channel_4)\n",
        "  yhat_ch_4=svc_ch_4.predict(Xts_channel_4)\n",
        "  \n",
        "  svc_ch_5 = svm.SVC(probability=False, kernel='rbf', C=2.8, gamma=0.0073, verbose=10)\n",
        "  svc_ch_5.fit(Xtr_channel_5,ytr_channel_5)\n",
        "  yhat_ch_5=svc_ch_5.predict(Xts_channel_5)\n",
        "  \n",
        "  #implement voting\n",
        "  \n",
        "  yhat_fold = (yhat_ch_1 + yhat_ch_2 + yhat_ch_3 + yhat_ch_4 + yhat_ch_5 )/5\n",
        "  yhat_round = np.rint(yhat_fold)\n",
        " \n",
        "  acc = np.mean(yhat_round==yts_channel_1)\n",
        "  Rsq[i]=acc\n",
        "  i = i + 1\n",
        "\n",
        "Rsq_mean=np.mean(Rsq)\n",
        "\n",
        "print(Rsq_mean)\n",
        "print('The maximum accuracies are')\n",
        "print(np.sort(Rsq))\n",
        "\n",
        "\n",
        "# plot the figure\n",
        "plt.plot(np.arange(5),Rsq)\n",
        "plt.xlabel('Folds')\n",
        "plt.ylabel('Accuracy')\n",
        "plt.grid()"
      ],
      "execution_count": 0,
      "outputs": [
        {
          "output_type": "stream",
          "text": [
            "[LibSVM][LibSVM][LibSVM][LibSVM][LibSVM][LibSVM][LibSVM][LibSVM][LibSVM][LibSVM][LibSVM][LibSVM][LibSVM][LibSVM][LibSVM][LibSVM][LibSVM][LibSVM][LibSVM][LibSVM][LibSVM][LibSVM][LibSVM][LibSVM][LibSVM]0.68\n",
            "The maximum accuracies are\n",
            "[0.5 0.6 0.7 0.8 0.8]\n"
          ],
          "name": "stdout"
        },
        {
          "output_type": "display_data",
          "data": {
            "image/png": "[encoded data removed]",
            "text/plain": [
              "<Figure size 432x288 with 1 Axes>"
            ]
          },
          "metadata": {
            "tags": []
          }
        }
      ]
    },
    {
      "cell_type": "code",
      "metadata": {
        "id": "owX1aVY_WeHU",
        "colab_type": "code",
        "colab": {}
      },
      "source": [
        ""
      ],
      "execution_count": 0,
      "outputs": []
    }
  ]
}